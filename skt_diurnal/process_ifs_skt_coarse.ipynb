{
 "cells": [
  {
   "cell_type": "code",
   "execution_count": 1,
   "id": "b4842a85-f126-4046-9020-90737c638ee9",
   "metadata": {},
   "outputs": [],
   "source": [
    "## Script to compute mean diurnal cycle of SKT from IFS, and aggregate it to a  to coarser grid \n",
    "## E. Dutra April 2023\n",
    "\n",
    "import xarray as xr\n",
    "import numpy as np\n",
    "import gribscan\n",
    "import os \n",
    "from netCDF4 import Dataset,num2date \n",
    "import pandas as pd\n",
    "import datetime as dt \n",
    "import time\n",
    "import sys\n",
    "import pandas as pd \n",
    "\n",
    "import matplotlib.pylab as plt\n",
    "import matplotlib.cm as cm\n",
    "import cmocean.cm as cmo\n",
    "import cartopy.crs as ccrs\n",
    "import cartopy.feature as cfeature\n",
    "from scipy.interpolate import LinearNDInterpolator, NearestNDInterpolator\n",
    "\n",
    "import agg_spatial_cython as agg_spatial"
   ]
  },
  {
   "cell_type": "code",
   "execution_count": 2,
   "id": "6e38425b-6146-440f-9172-f1698bfa8128",
   "metadata": {},
   "outputs": [],
   "source": [
    "def gen_output(fout,ftype):\n",
    "   # create output file \n",
    "  if os.path.isfile(fout):\n",
    "    os.remove(fout)\n",
    "  nc = Dataset(fout,'w',format='NETCDF4')\n",
    "\n",
    "  if ftype==\"HR\":\n",
    "      latR = lat_regH\n",
    "      lonR = lon_regH\n",
    "  elif ftype == \"LR\":\n",
    "      latR = lat_regL\n",
    "      lonR = lon_regL\n",
    "    \n",
    "  # create dimensions \n",
    "  nc.createDimension('lat',len(latR))\n",
    "  nc.createDimension('lon',len(lonR))\n",
    "  nc.createDimension('time',1)\n",
    "  \n",
    "   \n",
    "  # create dimensions variables \n",
    "  cvar = nc.createVariable('lat','f4',['lat',])\n",
    "  cvar.units = \"degrees_north\"\n",
    "  cvar.long_name = \"latitude\"\n",
    "  cvar.standard_name = \"latitude\"\n",
    "  cvar.axis= \"Y\" \n",
    "  cvar[:] = latR[:,0]\n",
    "  \n",
    "  cvar = nc.createVariable('lon','f4',['lon',])\n",
    "  cvar.units = \"degrees_east\"\n",
    "  cvar.long_name = \"longitude\"\n",
    "  cvar.standard_name = \"longitude\"\n",
    "  cvar.axis= \"X\" \n",
    "  cvar[:] = lonR[0,:]\n",
    "  \n",
    "  cvar = nc.createVariable('time','i4',['time',])\n",
    "  cvar.units = f\"hours since {dstart.strftime('%Y-%m-%d')}T00:00:00\"\n",
    "  cvar.long_name = \"time\"\n",
    "  cvar.standard_name = \"time\"\n",
    "  cvar.axis= \"T\"\n",
    "  cvar.calendar = \"standard\"\n",
    "   \n",
    "  \n",
    "  cvar = nc.createVariable('LST','f4',('time','lat','lon'),\n",
    "                           fill_value=ZFILL,zlib=True,complevel=6,\n",
    "                           least_significant_digit=2)\n",
    "  cvar.long_name='LST'\n",
    "  cvar.units='Celsius'\n",
    "    \n",
    "  cvar = nc.createVariable('pvalid','f4',('time','lat','lon'),\n",
    "                           fill_value=ZFILL,zlib=True,complevel=6,\n",
    "                           least_significant_digit=1)\n",
    "  cvar.long_name='percent of valid pixels in average'\n",
    "  cvar.units='0-100'\n",
    "    \n",
    "  cvar = nc.createVariable('NSLOT','f4',('time',))\n",
    "  cvar.long_name='total number of slots processed'\n",
    "  cvar.units='-'\n",
    "\n",
    "  if ftype == \"LR\":\n",
    "      cvar = nc.createVariable('LST_std','f4',('time','lat','lon'),\n",
    "                           fill_value=ZFILL,zlib=True,complevel=6,\n",
    "                           least_significant_digit=2)\n",
    "      cvar.long_name='LST_standard_deviation'\n",
    "      cvar.units='Celsius'\n",
    "    \n",
    "      cvar = nc.createVariable('npgrid','f4',('lat','lon'),\n",
    "                           fill_value=ZFILL,zlib=True,complevel=6,\n",
    "                           least_significant_digit=2)\n",
    "      cvar.long_name='number_points_grid'\n",
    "      cvar.units='-'\n",
    "    \n",
    "  return nc\n",
    "\n",
    "def inter2D(xIN):\n",
    "  nn_interpolation = NearestNDInterpolator(points_ifs, xIN)\n",
    "  return nn_interpolation(lon_regH, lat_regH)"
   ]
  },
  {
   "cell_type": "code",
   "execution_count": 3,
   "id": "e94c20c4-72b2-4bd5-8a36-5ddc715853be",
   "metadata": {},
   "outputs": [],
   "source": [
    "# Generic definitions\n",
    "tcc_min = 0.3\n",
    "ZFILL=-999\n",
    "DFOUT=\"/scratch/b/b381666/SKT_DIAG/\"\n",
    "exp=\"coarse\"\n",
    "dstart=dt.datetime(2020,6,1)\n",
    "dend = dt.datetime(2020,8,31)\n",
    "\n",
    "## Define output high res regular grid \n",
    "dlatH=-0.05;dlonH=0.05\n",
    "lon_regH, lat_regH = np.meshgrid(np.arange(-80,80.05,0.05), np.arange(80,-80.05,-0.05))\n",
    "## Define output low res regular grid\n",
    "dlatL=-0.25;dlonL=0.25\n",
    "lon_regL, lat_regL = np.meshgrid(np.arange(-70,70.25,0.25), np.arange(70,-70.25,-0.25));\n",
    "\n",
    "\n",
    "#ncH.close()\n",
    "#ncL.close()"
   ]
  },
  {
   "cell_type": "code",
   "execution_count": 4,
   "id": "8f9b5c9d-b6f9-4e96-bebb-b6fe5446bd48",
   "metadata": {},
   "outputs": [
    {
     "name": "stdout",
     "output_type": "stream",
     "text": [
      "Loading:  /work/bm1235/b381679/c3/nemo_28km/TCo399_nemo_fdb_all1/json.dir/atm2d.json\n",
      "loaded data list /work/bm1235/b381679/c3/nemo_28km/TCo399_nemo_fdb_all1/json.dir/atm2d.json in 11.4 sec\n"
     ]
    }
   ],
   "source": [
    "t0_ = time.time()\n",
    "if exp == 'coarse':\n",
    "  datazarr = \"/work/bm1235/b381679/c3/nemo_28km/TCo399_nemo_fdb_all1/json.dir/atm2d.json\" \n",
    "elif exp ==   'nemo':\n",
    "  datazarr='/work/bm1235/b381679/rundir/tco1279l137/hz9o/hres/intel.levante.hpcx/lvt.intel.sp/TCo1279_nemo_fdb_all/json.dir/atm2d.json' \n",
    "  ficmgg=\"/work/bm1235/ifs-inputs_nxg_c3/tco1279l137/hz9o/LWDA/2020012000/gfc/ICMGGhz9oINIT\"\n",
    "elif exp == 'feson':\n",
    "  datazarr ='/scratch/a/a270046/rundir/tco1279l137/hz9o/hres/intel.levante.openmpi/lvt.intel.sp/TCo1279_fesom_fdb_all//json.dir/atm2d.json' \n",
    "  # grib_copy -w shortName=lsm/cl,dataDate=20200120 /work/bm1235/ifs-inputs_nxg_c3/tco1279l137/hz9o/LWDA/2020012000/gfc/ICMGGhz9oINIT /scratch/b/b381666/ini_tco1279\n",
    "  ficmgg=\"/scratch/b/b381666/ini_tco1279\"\n",
    "print(\"Loading: \",datazarr)\n",
    "data = xr.open_zarr(\"reference::\"+datazarr, consolidated=False)\n",
    "print(f\"loaded data list {datazarr} in {time.time()-t0_:.1f} sec\") \n",
    "#display(data)"
   ]
  },
  {
   "cell_type": "code",
   "execution_count": 5,
   "id": "2813e2f4-8520-4c52-83b0-e784563787b9",
   "metadata": {},
   "outputs": [
    {
     "ename": "NameError",
     "evalue": "name 'ficmgg' is not defined",
     "output_type": "error",
     "traceback": [
      "\u001b[0;31m---------------------------------------------------------------------------\u001b[0m",
      "\u001b[0;31mNameError\u001b[0m                                 Traceback (most recent call last)",
      "Input \u001b[0;32mIn [5]\u001b[0m, in \u001b[0;36m<cell line: 1>\u001b[0;34m()\u001b[0m\n\u001b[0;32m----> 1\u001b[0m dsINI \u001b[38;5;241m=\u001b[39m xr\u001b[38;5;241m.\u001b[39mopen_dataset(\u001b[43mficmgg\u001b[49m, engine\u001b[38;5;241m=\u001b[39m\u001b[38;5;124m'\u001b[39m\u001b[38;5;124mcfgrib\u001b[39m\u001b[38;5;124m'\u001b[39m,backend_kwargs\u001b[38;5;241m=\u001b[39m{\u001b[38;5;124m'\u001b[39m\u001b[38;5;124mindexpath\u001b[39m\u001b[38;5;124m'\u001b[39m:\u001b[38;5;124m'\u001b[39m\u001b[38;5;124m'\u001b[39m})\n\u001b[1;32m      2\u001b[0m land_inlandw \u001b[38;5;241m=\u001b[39m (dsINI\u001b[38;5;241m.\u001b[39mlsm\u001b[38;5;241m.\u001b[39mvalues \u001b[38;5;241m>\u001b[39m\u001b[38;5;241m=\u001b[39m \u001b[38;5;241m0.5\u001b[39m) \u001b[38;5;241m|\u001b[39m ( dsINI\u001b[38;5;241m.\u001b[39mcl\u001b[38;5;241m.\u001b[39mvalues \u001b[38;5;241m>\u001b[39m\u001b[38;5;241m=\u001b[39m \u001b[38;5;241m0.5\u001b[39m )\n",
      "\u001b[0;31mNameError\u001b[0m: name 'ficmgg' is not defined"
     ]
    }
   ],
   "source": [
    "dsINI = xr.open_dataset(ficmgg, engine='cfgrib',backend_kwargs={'indexpath':''})\n",
    "land_inlandw = (dsINI.lsm.values >= 0.5) | ( dsINI.cl.values >= 0.5 )\n"
   ]
  },
  {
   "cell_type": "code",
   "execution_count": 6,
   "id": "a40fa323-8a79-4a18-9462-55c49ce4187b",
   "metadata": {},
   "outputs": [],
   "source": [
    "## Get the grid \n",
    "model_lon = np.where(data.lon.values>180, data.lon.values-360, data.lon.values)\n",
    "model_lat = data.lat.values\n",
    "\n",
    "## Select region of interest \n",
    "reg = ( (model_lat>-81) & (model_lat<81) &\n",
    "         (model_lon >-81) & (model_lon<81) )\n",
    "npp = np.sum(reg)\n",
    "points_ifs = np.vstack((model_lon[reg], model_lat[reg])).T"
   ]
  },
  {
   "cell_type": "code",
   "execution_count": 7,
   "id": "5ebea2c2-4216-488f-94a0-0745ee6232dc",
   "metadata": {},
   "outputs": [
    {
     "name": "stdout",
     "output_type": "stream",
     "text": [
      "will process 290882 points for 92 days\n"
     ]
    }
   ],
   "source": [
    "dlist = pd.date_range(start=dstart,end=dend,freq='d')\n",
    "#dlist = pd.date_range(start=dstart,end=dt.datetime(2020,6,10),freq='d')\n",
    "print(f\"will process {npp} points for {len(dlist)} days\")"
   ]
  },
  {
   "cell_type": "code",
   "execution_count": 8,
   "id": "6c2964e1-2b22-4d4b-8137-fd5eb2fc4987",
   "metadata": {},
   "outputs": [
    {
     "name": "stdout",
     "output_type": "stream",
     "text": [
      "loading 2020-06-01 00:00:00\n",
      "loading 2020-06-02 00:00:00\n",
      "loading 2020-06-03 00:00:00\n",
      "loading 2020-06-04 00:00:00\n",
      "loading 2020-06-05 00:00:00\n",
      "loading 2020-06-06 00:00:00\n",
      "loading 2020-06-07 00:00:00\n",
      "loading 2020-06-08 00:00:00\n",
      "loading 2020-06-09 00:00:00\n",
      "loading 2020-06-10 00:00:00\n",
      "loading 2020-06-11 00:00:00\n",
      "loading 2020-06-12 00:00:00\n",
      "loading 2020-06-13 00:00:00\n"
     ]
    },
    {
     "ename": "KeyboardInterrupt",
     "evalue": "",
     "output_type": "error",
     "traceback": [
      "\u001b[0;31m---------------------------------------------------------------------------\u001b[0m",
      "\u001b[0;31mAttributeError\u001b[0m                            Traceback (most recent call last)",
      "File \u001b[0;32m/sw/spack-levante/mambaforge-4.11.0-0-Linux-x86_64-sobz6z/lib/python3.9/site-packages/dask/highlevelgraph.py:781\u001b[0m, in \u001b[0;36mHighLevelGraph.get_all_external_keys\u001b[0;34m(self)\u001b[0m\n\u001b[1;32m    780\u001b[0m \u001b[38;5;28;01mtry\u001b[39;00m:\n\u001b[0;32m--> 781\u001b[0m     \u001b[38;5;28;01mreturn\u001b[39;00m \u001b[38;5;28;43mself\u001b[39;49m\u001b[38;5;241;43m.\u001b[39;49m\u001b[43m_all_external_keys\u001b[49m\n\u001b[1;32m    782\u001b[0m \u001b[38;5;28;01mexcept\u001b[39;00m \u001b[38;5;167;01mAttributeError\u001b[39;00m:\n",
      "\u001b[0;31mAttributeError\u001b[0m: 'HighLevelGraph' object has no attribute '_all_external_keys'",
      "\nDuring handling of the above exception, another exception occurred:\n",
      "\u001b[0;31mKeyboardInterrupt\u001b[0m                         Traceback (most recent call last)",
      "Input \u001b[0;32mIn [8]\u001b[0m, in \u001b[0;36m<cell line: 7>\u001b[0;34m()\u001b[0m\n\u001b[1;32m     34\u001b[0m     xOK \u001b[38;5;241m=\u001b[39m tcc \u001b[38;5;241m<\u001b[39m\u001b[38;5;241m=\u001b[39m tcc_min\n\u001b[1;32m     35\u001b[0m     zVAL[xOK] \u001b[38;5;241m=\u001b[39m zVAL[xOK] \u001b[38;5;241m+\u001b[39m \u001b[38;5;241m1\u001b[39m \n\u001b[0;32m---> 36\u001b[0m     zAVG[xOK] \u001b[38;5;241m=\u001b[39m zAVG[xOK] \u001b[38;5;241m+\u001b[39m skt[xOK]   \n\u001b[1;32m     37\u001b[0m \u001b[38;5;66;03m#compute averages \u001b[39;00m\n\u001b[1;32m     38\u001b[0m zAVG \u001b[38;5;241m=\u001b[39m np\u001b[38;5;241m.\u001b[39mwhere(zVAL\u001b[38;5;241m>\u001b[39m\u001b[38;5;241m0\u001b[39m,zAVG \u001b[38;5;241m/\u001b[39m zVAL,ZFILL)\n",
      "File \u001b[0;32m/sw/spack-levante/mambaforge-4.11.0-0-Linux-x86_64-sobz6z/lib/python3.9/site-packages/xarray/core/common.py:143\u001b[0m, in \u001b[0;36mAbstractArray.__array__\u001b[0;34m(self, dtype)\u001b[0m\n\u001b[1;32m    142\u001b[0m \u001b[38;5;28;01mdef\u001b[39;00m \u001b[38;5;21m__array__\u001b[39m(\u001b[38;5;28mself\u001b[39m: Any, dtype: DTypeLike \u001b[38;5;241m=\u001b[39m \u001b[38;5;28;01mNone\u001b[39;00m) \u001b[38;5;241m-\u001b[39m\u001b[38;5;241m>\u001b[39m np\u001b[38;5;241m.\u001b[39mndarray:\n\u001b[0;32m--> 143\u001b[0m     \u001b[38;5;28;01mreturn\u001b[39;00m np\u001b[38;5;241m.\u001b[39masarray(\u001b[38;5;28;43mself\u001b[39;49m\u001b[38;5;241;43m.\u001b[39;49m\u001b[43mvalues\u001b[49m, dtype\u001b[38;5;241m=\u001b[39mdtype)\n",
      "File \u001b[0;32m/sw/spack-levante/mambaforge-4.11.0-0-Linux-x86_64-sobz6z/lib/python3.9/site-packages/xarray/core/dataarray.py:642\u001b[0m, in \u001b[0;36mDataArray.values\u001b[0;34m(self)\u001b[0m\n\u001b[1;32m    633\u001b[0m \u001b[38;5;129m@property\u001b[39m\n\u001b[1;32m    634\u001b[0m \u001b[38;5;28;01mdef\u001b[39;00m \u001b[38;5;21mvalues\u001b[39m(\u001b[38;5;28mself\u001b[39m) \u001b[38;5;241m-\u001b[39m\u001b[38;5;241m>\u001b[39m np\u001b[38;5;241m.\u001b[39mndarray:\n\u001b[1;32m    635\u001b[0m     \u001b[38;5;124;03m\"\"\"\u001b[39;00m\n\u001b[1;32m    636\u001b[0m \u001b[38;5;124;03m    The array's data as a numpy.ndarray.\u001b[39;00m\n\u001b[1;32m    637\u001b[0m \n\u001b[0;32m   (...)\u001b[0m\n\u001b[1;32m    640\u001b[0m \u001b[38;5;124;03m    type does not support coercion like this (e.g. cupy).\u001b[39;00m\n\u001b[1;32m    641\u001b[0m \u001b[38;5;124;03m    \"\"\"\u001b[39;00m\n\u001b[0;32m--> 642\u001b[0m     \u001b[38;5;28;01mreturn\u001b[39;00m \u001b[38;5;28;43mself\u001b[39;49m\u001b[38;5;241;43m.\u001b[39;49m\u001b[43mvariable\u001b[49m\u001b[38;5;241;43m.\u001b[39;49m\u001b[43mvalues\u001b[49m\n",
      "File \u001b[0;32m/sw/spack-levante/mambaforge-4.11.0-0-Linux-x86_64-sobz6z/lib/python3.9/site-packages/xarray/core/variable.py:512\u001b[0m, in \u001b[0;36mVariable.values\u001b[0;34m(self)\u001b[0m\n\u001b[1;32m    509\u001b[0m \u001b[38;5;129m@property\u001b[39m\n\u001b[1;32m    510\u001b[0m \u001b[38;5;28;01mdef\u001b[39;00m \u001b[38;5;21mvalues\u001b[39m(\u001b[38;5;28mself\u001b[39m):\n\u001b[1;32m    511\u001b[0m     \u001b[38;5;124;03m\"\"\"The variable's data as a numpy.ndarray\"\"\"\u001b[39;00m\n\u001b[0;32m--> 512\u001b[0m     \u001b[38;5;28;01mreturn\u001b[39;00m \u001b[43m_as_array_or_item\u001b[49m\u001b[43m(\u001b[49m\u001b[38;5;28;43mself\u001b[39;49m\u001b[38;5;241;43m.\u001b[39;49m\u001b[43m_data\u001b[49m\u001b[43m)\u001b[49m\n",
      "File \u001b[0;32m/sw/spack-levante/mambaforge-4.11.0-0-Linux-x86_64-sobz6z/lib/python3.9/site-packages/xarray/core/variable.py:252\u001b[0m, in \u001b[0;36m_as_array_or_item\u001b[0;34m(data)\u001b[0m\n\u001b[1;32m    238\u001b[0m \u001b[38;5;28;01mdef\u001b[39;00m \u001b[38;5;21m_as_array_or_item\u001b[39m(data):\n\u001b[1;32m    239\u001b[0m     \u001b[38;5;124;03m\"\"\"Return the given values as a numpy array, or as an individual item if\u001b[39;00m\n\u001b[1;32m    240\u001b[0m \u001b[38;5;124;03m    it's a 0d datetime64 or timedelta64 array.\u001b[39;00m\n\u001b[1;32m    241\u001b[0m \n\u001b[0;32m   (...)\u001b[0m\n\u001b[1;32m    250\u001b[0m \u001b[38;5;124;03m    TODO: remove this (replace with np.asarray) once these issues are fixed\u001b[39;00m\n\u001b[1;32m    251\u001b[0m \u001b[38;5;124;03m    \"\"\"\u001b[39;00m\n\u001b[0;32m--> 252\u001b[0m     data \u001b[38;5;241m=\u001b[39m \u001b[43mnp\u001b[49m\u001b[38;5;241;43m.\u001b[39;49m\u001b[43masarray\u001b[49m\u001b[43m(\u001b[49m\u001b[43mdata\u001b[49m\u001b[43m)\u001b[49m\n\u001b[1;32m    253\u001b[0m     \u001b[38;5;28;01mif\u001b[39;00m data\u001b[38;5;241m.\u001b[39mndim \u001b[38;5;241m==\u001b[39m \u001b[38;5;241m0\u001b[39m:\n\u001b[1;32m    254\u001b[0m         \u001b[38;5;28;01mif\u001b[39;00m data\u001b[38;5;241m.\u001b[39mdtype\u001b[38;5;241m.\u001b[39mkind \u001b[38;5;241m==\u001b[39m \u001b[38;5;124m\"\u001b[39m\u001b[38;5;124mM\u001b[39m\u001b[38;5;124m\"\u001b[39m:\n",
      "File \u001b[0;32m/sw/spack-levante/mambaforge-4.11.0-0-Linux-x86_64-sobz6z/lib/python3.9/site-packages/dask/array/core.py:1686\u001b[0m, in \u001b[0;36mArray.__array__\u001b[0;34m(self, dtype, **kwargs)\u001b[0m\n\u001b[1;32m   1685\u001b[0m \u001b[38;5;28;01mdef\u001b[39;00m \u001b[38;5;21m__array__\u001b[39m(\u001b[38;5;28mself\u001b[39m, dtype\u001b[38;5;241m=\u001b[39m\u001b[38;5;28;01mNone\u001b[39;00m, \u001b[38;5;241m*\u001b[39m\u001b[38;5;241m*\u001b[39mkwargs):\n\u001b[0;32m-> 1686\u001b[0m     x \u001b[38;5;241m=\u001b[39m \u001b[38;5;28;43mself\u001b[39;49m\u001b[38;5;241;43m.\u001b[39;49m\u001b[43mcompute\u001b[49m\u001b[43m(\u001b[49m\u001b[43m)\u001b[49m\n\u001b[1;32m   1687\u001b[0m     \u001b[38;5;28;01mif\u001b[39;00m dtype \u001b[38;5;129;01mand\u001b[39;00m x\u001b[38;5;241m.\u001b[39mdtype \u001b[38;5;241m!=\u001b[39m dtype:\n\u001b[1;32m   1688\u001b[0m         x \u001b[38;5;241m=\u001b[39m x\u001b[38;5;241m.\u001b[39mastype(dtype)\n",
      "File \u001b[0;32m/sw/spack-levante/mambaforge-4.11.0-0-Linux-x86_64-sobz6z/lib/python3.9/site-packages/dask/base.py:312\u001b[0m, in \u001b[0;36mDaskMethodsMixin.compute\u001b[0;34m(self, **kwargs)\u001b[0m\n\u001b[1;32m    288\u001b[0m \u001b[38;5;28;01mdef\u001b[39;00m \u001b[38;5;21mcompute\u001b[39m(\u001b[38;5;28mself\u001b[39m, \u001b[38;5;241m*\u001b[39m\u001b[38;5;241m*\u001b[39mkwargs):\n\u001b[1;32m    289\u001b[0m     \u001b[38;5;124;03m\"\"\"Compute this dask collection\u001b[39;00m\n\u001b[1;32m    290\u001b[0m \n\u001b[1;32m    291\u001b[0m \u001b[38;5;124;03m    This turns a lazy Dask collection into its in-memory equivalent.\u001b[39;00m\n\u001b[0;32m   (...)\u001b[0m\n\u001b[1;32m    310\u001b[0m \u001b[38;5;124;03m    dask.base.compute\u001b[39;00m\n\u001b[1;32m    311\u001b[0m \u001b[38;5;124;03m    \"\"\"\u001b[39;00m\n\u001b[0;32m--> 312\u001b[0m     (result,) \u001b[38;5;241m=\u001b[39m \u001b[43mcompute\u001b[49m\u001b[43m(\u001b[49m\u001b[38;5;28;43mself\u001b[39;49m\u001b[43m,\u001b[49m\u001b[43m \u001b[49m\u001b[43mtraverse\u001b[49m\u001b[38;5;241;43m=\u001b[39;49m\u001b[38;5;28;43;01mFalse\u001b[39;49;00m\u001b[43m,\u001b[49m\u001b[43m \u001b[49m\u001b[38;5;241;43m*\u001b[39;49m\u001b[38;5;241;43m*\u001b[39;49m\u001b[43mkwargs\u001b[49m\u001b[43m)\u001b[49m\n\u001b[1;32m    313\u001b[0m     \u001b[38;5;28;01mreturn\u001b[39;00m result\n",
      "File \u001b[0;32m/sw/spack-levante/mambaforge-4.11.0-0-Linux-x86_64-sobz6z/lib/python3.9/site-packages/dask/base.py:594\u001b[0m, in \u001b[0;36mcompute\u001b[0;34m(traverse, optimize_graph, scheduler, get, *args, **kwargs)\u001b[0m\n\u001b[1;32m    586\u001b[0m     \u001b[38;5;28;01mreturn\u001b[39;00m args\n\u001b[1;32m    588\u001b[0m schedule \u001b[38;5;241m=\u001b[39m get_scheduler(\n\u001b[1;32m    589\u001b[0m     scheduler\u001b[38;5;241m=\u001b[39mscheduler,\n\u001b[1;32m    590\u001b[0m     collections\u001b[38;5;241m=\u001b[39mcollections,\n\u001b[1;32m    591\u001b[0m     get\u001b[38;5;241m=\u001b[39mget,\n\u001b[1;32m    592\u001b[0m )\n\u001b[0;32m--> 594\u001b[0m dsk \u001b[38;5;241m=\u001b[39m \u001b[43mcollections_to_dsk\u001b[49m\u001b[43m(\u001b[49m\u001b[43mcollections\u001b[49m\u001b[43m,\u001b[49m\u001b[43m \u001b[49m\u001b[43moptimize_graph\u001b[49m\u001b[43m,\u001b[49m\u001b[43m \u001b[49m\u001b[38;5;241;43m*\u001b[39;49m\u001b[38;5;241;43m*\u001b[39;49m\u001b[43mkwargs\u001b[49m\u001b[43m)\u001b[49m\n\u001b[1;32m    595\u001b[0m keys, postcomputes \u001b[38;5;241m=\u001b[39m [], []\n\u001b[1;32m    596\u001b[0m \u001b[38;5;28;01mfor\u001b[39;00m x \u001b[38;5;129;01min\u001b[39;00m collections:\n",
      "File \u001b[0;32m/sw/spack-levante/mambaforge-4.11.0-0-Linux-x86_64-sobz6z/lib/python3.9/site-packages/dask/base.py:369\u001b[0m, in \u001b[0;36mcollections_to_dsk\u001b[0;34m(collections, optimize_graph, optimizations, **kwargs)\u001b[0m\n\u001b[1;32m    367\u001b[0m \u001b[38;5;28;01mfor\u001b[39;00m opt, val \u001b[38;5;129;01min\u001b[39;00m groups\u001b[38;5;241m.\u001b[39mitems():\n\u001b[1;32m    368\u001b[0m     dsk, keys \u001b[38;5;241m=\u001b[39m _extract_graph_and_keys(val)\n\u001b[0;32m--> 369\u001b[0m     dsk \u001b[38;5;241m=\u001b[39m \u001b[43mopt\u001b[49m\u001b[43m(\u001b[49m\u001b[43mdsk\u001b[49m\u001b[43m,\u001b[49m\u001b[43m \u001b[49m\u001b[43mkeys\u001b[49m\u001b[43m,\u001b[49m\u001b[43m \u001b[49m\u001b[38;5;241;43m*\u001b[39;49m\u001b[38;5;241;43m*\u001b[39;49m\u001b[43mkwargs\u001b[49m\u001b[43m)\u001b[49m\n\u001b[1;32m    371\u001b[0m     \u001b[38;5;28;01mfor\u001b[39;00m opt_inner \u001b[38;5;129;01min\u001b[39;00m optimizations:\n\u001b[1;32m    372\u001b[0m         dsk \u001b[38;5;241m=\u001b[39m opt_inner(dsk, keys, \u001b[38;5;241m*\u001b[39m\u001b[38;5;241m*\u001b[39mkwargs)\n",
      "File \u001b[0;32m/sw/spack-levante/mambaforge-4.11.0-0-Linux-x86_64-sobz6z/lib/python3.9/site-packages/dask/array/optimization.py:50\u001b[0m, in \u001b[0;36moptimize\u001b[0;34m(dsk, keys, fuse_keys, fast_functions, inline_functions_fast_functions, rename_fused_keys, **kwargs)\u001b[0m\n\u001b[1;32m     48\u001b[0m dsk \u001b[38;5;241m=\u001b[39m optimize_blockwise(dsk, keys\u001b[38;5;241m=\u001b[39mkeys)\n\u001b[1;32m     49\u001b[0m dsk \u001b[38;5;241m=\u001b[39m fuse_roots(dsk, keys\u001b[38;5;241m=\u001b[39mkeys)\n\u001b[0;32m---> 50\u001b[0m dsk \u001b[38;5;241m=\u001b[39m \u001b[43mdsk\u001b[49m\u001b[38;5;241;43m.\u001b[39;49m\u001b[43mcull\u001b[49m\u001b[43m(\u001b[49m\u001b[38;5;28;43mset\u001b[39;49m\u001b[43m(\u001b[49m\u001b[43mkeys\u001b[49m\u001b[43m)\u001b[49m\u001b[43m)\u001b[49m\n\u001b[1;32m     52\u001b[0m \u001b[38;5;66;03m# Perform low-level fusion unless the user has\u001b[39;00m\n\u001b[1;32m     53\u001b[0m \u001b[38;5;66;03m# specified False explicitly.\u001b[39;00m\n\u001b[1;32m     54\u001b[0m \u001b[38;5;28;01mif\u001b[39;00m config\u001b[38;5;241m.\u001b[39mget(\u001b[38;5;124m\"\u001b[39m\u001b[38;5;124moptimization.fuse.active\u001b[39m\u001b[38;5;124m\"\u001b[39m) \u001b[38;5;129;01mis\u001b[39;00m \u001b[38;5;28;01mFalse\u001b[39;00m:\n",
      "File \u001b[0;32m/sw/spack-levante/mambaforge-4.11.0-0-Linux-x86_64-sobz6z/lib/python3.9/site-packages/dask/highlevelgraph.py:936\u001b[0m, in \u001b[0;36mHighLevelGraph.cull\u001b[0;34m(self, keys)\u001b[0m\n\u001b[1;32m    919\u001b[0m \u001b[38;5;124;03m\"\"\"Return new HighLevelGraph with only the tasks required to calculate keys.\u001b[39;00m\n\u001b[1;32m    920\u001b[0m \n\u001b[1;32m    921\u001b[0m \u001b[38;5;124;03mIn other words, remove unnecessary tasks from dask.\u001b[39;00m\n\u001b[0;32m   (...)\u001b[0m\n\u001b[1;32m    932\u001b[0m \u001b[38;5;124;03m    Culled high level graph\u001b[39;00m\n\u001b[1;32m    933\u001b[0m \u001b[38;5;124;03m\"\"\"\u001b[39;00m\n\u001b[1;32m    934\u001b[0m keys_set \u001b[38;5;241m=\u001b[39m \u001b[38;5;28mset\u001b[39m(flatten(keys))\n\u001b[0;32m--> 936\u001b[0m all_ext_keys \u001b[38;5;241m=\u001b[39m \u001b[38;5;28;43mself\u001b[39;49m\u001b[38;5;241;43m.\u001b[39;49m\u001b[43mget_all_external_keys\u001b[49m\u001b[43m(\u001b[49m\u001b[43m)\u001b[49m\n\u001b[1;32m    937\u001b[0m ret_layers: \u001b[38;5;28mdict\u001b[39m \u001b[38;5;241m=\u001b[39m {}\n\u001b[1;32m    938\u001b[0m ret_key_deps: \u001b[38;5;28mdict\u001b[39m \u001b[38;5;241m=\u001b[39m {}\n",
      "File \u001b[0;32m/sw/spack-levante/mambaforge-4.11.0-0-Linux-x86_64-sobz6z/lib/python3.9/site-packages/dask/highlevelgraph.py:788\u001b[0m, in \u001b[0;36mHighLevelGraph.get_all_external_keys\u001b[0;34m(self)\u001b[0m\n\u001b[1;32m    783\u001b[0m keys: \u001b[38;5;28mset\u001b[39m \u001b[38;5;241m=\u001b[39m \u001b[38;5;28mset\u001b[39m()\n\u001b[1;32m    784\u001b[0m \u001b[38;5;28;01mfor\u001b[39;00m layer \u001b[38;5;129;01min\u001b[39;00m \u001b[38;5;28mself\u001b[39m\u001b[38;5;241m.\u001b[39mlayers\u001b[38;5;241m.\u001b[39mvalues():\n\u001b[1;32m    785\u001b[0m     \u001b[38;5;66;03m# Note: don't use `keys |= ...`, because the RHS is a\u001b[39;00m\n\u001b[1;32m    786\u001b[0m     \u001b[38;5;66;03m# collections.abc.Set rather than a real set, and this will\u001b[39;00m\n\u001b[1;32m    787\u001b[0m     \u001b[38;5;66;03m# cause a whole new set to be constructed.\u001b[39;00m\n\u001b[0;32m--> 788\u001b[0m     keys\u001b[38;5;241m.\u001b[39mupdate(\u001b[43mlayer\u001b[49m\u001b[38;5;241;43m.\u001b[39;49m\u001b[43mget_output_keys\u001b[49m\u001b[43m(\u001b[49m\u001b[43m)\u001b[49m)\n\u001b[1;32m    789\u001b[0m \u001b[38;5;28mself\u001b[39m\u001b[38;5;241m.\u001b[39m_all_external_keys \u001b[38;5;241m=\u001b[39m keys\n\u001b[1;32m    790\u001b[0m \u001b[38;5;28;01mreturn\u001b[39;00m keys\n",
      "File \u001b[0;32m/sw/spack-levante/mambaforge-4.11.0-0-Linux-x86_64-sobz6z/lib/python3.9/site-packages/dask/blockwise.py:539\u001b[0m, in \u001b[0;36mBlockwise.get_output_keys\u001b[0;34m(self)\u001b[0m\n\u001b[1;32m    536\u001b[0m     \u001b[38;5;28;01mreturn\u001b[39;00m {(\u001b[38;5;28mself\u001b[39m\u001b[38;5;241m.\u001b[39moutput, \u001b[38;5;241m*\u001b[39mp) \u001b[38;5;28;01mfor\u001b[39;00m p \u001b[38;5;129;01min\u001b[39;00m \u001b[38;5;28mself\u001b[39m\u001b[38;5;241m.\u001b[39moutput_blocks}\n\u001b[1;32m    538\u001b[0m \u001b[38;5;66;03m# Return all possible output keys (no culling)\u001b[39;00m\n\u001b[0;32m--> 539\u001b[0m \u001b[38;5;28;01mreturn\u001b[39;00m {\n\u001b[1;32m    540\u001b[0m     (\u001b[38;5;28mself\u001b[39m\u001b[38;5;241m.\u001b[39moutput, \u001b[38;5;241m*\u001b[39mp)\n\u001b[1;32m    541\u001b[0m     \u001b[38;5;28;01mfor\u001b[39;00m p \u001b[38;5;129;01min\u001b[39;00m itertools\u001b[38;5;241m.\u001b[39mproduct(\n\u001b[1;32m    542\u001b[0m         \u001b[38;5;241m*\u001b[39m[\u001b[38;5;28mrange\u001b[39m(\u001b[38;5;28mself\u001b[39m\u001b[38;5;241m.\u001b[39mdims[i]) \u001b[38;5;28;01mfor\u001b[39;00m i \u001b[38;5;129;01min\u001b[39;00m \u001b[38;5;28mself\u001b[39m\u001b[38;5;241m.\u001b[39moutput_indices]\n\u001b[1;32m    543\u001b[0m     )\n\u001b[1;32m    544\u001b[0m }\n",
      "File \u001b[0;32m/sw/spack-levante/mambaforge-4.11.0-0-Linux-x86_64-sobz6z/lib/python3.9/site-packages/dask/blockwise.py:540\u001b[0m, in \u001b[0;36m<setcomp>\u001b[0;34m(.0)\u001b[0m\n\u001b[1;32m    536\u001b[0m     \u001b[38;5;28;01mreturn\u001b[39;00m {(\u001b[38;5;28mself\u001b[39m\u001b[38;5;241m.\u001b[39moutput, \u001b[38;5;241m*\u001b[39mp) \u001b[38;5;28;01mfor\u001b[39;00m p \u001b[38;5;129;01min\u001b[39;00m \u001b[38;5;28mself\u001b[39m\u001b[38;5;241m.\u001b[39moutput_blocks}\n\u001b[1;32m    538\u001b[0m \u001b[38;5;66;03m# Return all possible output keys (no culling)\u001b[39;00m\n\u001b[1;32m    539\u001b[0m \u001b[38;5;28;01mreturn\u001b[39;00m {\n\u001b[0;32m--> 540\u001b[0m     (\u001b[38;5;28mself\u001b[39m\u001b[38;5;241m.\u001b[39moutput, \u001b[38;5;241m*\u001b[39mp)\n\u001b[1;32m    541\u001b[0m     \u001b[38;5;28;01mfor\u001b[39;00m p \u001b[38;5;129;01min\u001b[39;00m itertools\u001b[38;5;241m.\u001b[39mproduct(\n\u001b[1;32m    542\u001b[0m         \u001b[38;5;241m*\u001b[39m[\u001b[38;5;28mrange\u001b[39m(\u001b[38;5;28mself\u001b[39m\u001b[38;5;241m.\u001b[39mdims[i]) \u001b[38;5;28;01mfor\u001b[39;00m i \u001b[38;5;129;01min\u001b[39;00m \u001b[38;5;28mself\u001b[39m\u001b[38;5;241m.\u001b[39moutput_indices]\n\u001b[1;32m    543\u001b[0m     )\n\u001b[1;32m    544\u001b[0m }\n",
      "\u001b[0;31mKeyboardInterrupt\u001b[0m: "
     ]
    }
   ],
   "source": [
    "## pre-allocate aggregation\n",
    "# nearest LR grid \n",
    "NiY =  (( model_lat[reg] - (lat_regL[0,0]-0.5*dlatL )) // dlatL ).astype('i4') \n",
    "NiX =  (( model_lon[reg] - (lon_regL[0,0]-0.5*dlonL )) // dlonL ).astype('i4') \n",
    "\n",
    "# main loop on hours \n",
    "for ih in range(24):\n",
    "    t0H = time.time()\n",
    "    \n",
    "    ## Generate output files\n",
    "    foutH = f\"{DFOUT}/NETCDF4_{exp}_LST_{'test'}_HR_{ih:02d}.nc\"\n",
    "    foutL = f\"{DFOUT}/NETCDF4_{exp}_LST_{'test'}_LR_{ih:02d}.nc\"\n",
    "    ncH = gen_output(foutH,'HR')\n",
    "    ncL = gen_output(foutL,'LR')\n",
    "    \n",
    "    xAGG    = np.zeros(lat_regL.shape,dtype='f4')\n",
    "    xCOUNT  = np.zeros(lat_regL.shape,dtype='i4')\n",
    "    xMISS   = np.zeros(lat_regL.shape,dtype='f4')\n",
    "    xAGGSTD = np.zeros(lat_regL.shape,dtype='f4')\n",
    "    \n",
    "    nslotSTP = 0\n",
    "    zAVG = np.zeros(npp,'f4')\n",
    "    zVAL = np.zeros(npp,'f4')\n",
    "    # loop on days of month \n",
    "    for idate in dlist:\n",
    "        slot = idate+dt.timedelta(hours=ih)\n",
    "        nslotSTP = nslotSTP + 1\n",
    "        print(\"loading\",slot)\n",
    "        #load data into memory \n",
    "        skt = data.skt.sel(time=slot)[reg] - 273.16\n",
    "        tcc = data.tcc.sel(time=slot)[reg]\n",
    "    \n",
    "        # select only clear sky \n",
    "        xOK = tcc <= tcc_min\n",
    "        zVAL[xOK] = zVAL[xOK] + 1 \n",
    "        zAVG[xOK] = zAVG[xOK] + skt[xOK]   \n",
    "    #compute averages \n",
    "    zAVG = np.where(zVAL>0,zAVG / zVAL,ZFILL)\n",
    "    zVAL = np.where(zVAL>0,100*zVAL/nslotSTP,0)   \n",
    "    \n",
    "    # write to output HR \n",
    "    ncH.variables['time'][0] = ih\n",
    "    ncH.variables['NSLOT'][0] = nslotSTP\n",
    "    ncH.variables['LST'][0,:,:] = inter2D(zAVG)\n",
    "    ncH.variables['pvalid'][0,:,:] = inter2D(zVAL)\n",
    "  \n",
    "    # spatial aggregations\n",
    "    ## LST \n",
    "    # first mask ocean points \n",
    "    zAVG[~land_inlandw[reg]] = ZFILL\n",
    "    zVAL[~land_inlandw[reg]] = 0\n",
    "    \n",
    "    agg_spatial.agg_pixels(NiX,NiY,zAVG.astype('f4'),xAGG,xAGGSTD,xCOUNT,ZFILL)\n",
    "    ncL.variables['time'][0] = ih\n",
    "    ncL.variables['NSLOT'][0] = nslotSTP\n",
    "    ncL.variables['LST'][0,:,:] = xAGG\n",
    "    ncL.variables['LST_std'][0,:,:] = xAGGSTD\n",
    "    if ih == 0: ncL.variables['npgrid'][:,:] = xCOUNT \n",
    "    \n",
    "    ## pvalid \n",
    "    agg_spatial.agg_pixels(NiX,NiY,zVAL.astype('f4'),xAGG,xAGGSTD,xCOUNT,ZFILL)\n",
    "    ncL.variables['pvalid'][0,:,:] = xAGG\n",
    "    \n",
    "    \n",
    " \n",
    "    ncH.close()\n",
    "    ncL.close()  \n",
    "    \n",
    "    print(f\"Processed {dstart} hour {ih} with {nslotSTP} slots in {time.time()-t0H:.1f} sec\")"
   ]
  },
  {
   "cell_type": "code",
   "execution_count": 11,
   "id": "5a61c26e-7523-4252-a931-9e9908b11b8b",
   "metadata": {},
   "outputs": [
    {
     "data": {
      "text/plain": [
       "array([  0.10713562,   0.11104187,   0.09541687, ..., -42.12723938,\n",
       "       -42.72489563, -43.31473938])"
      ]
     },
     "execution_count": 11,
     "metadata": {},
     "output_type": "execute_result"
    }
   ],
   "source": [
    "skt.values\n",
    "#zAVG[~land_inlandw[reg]] = ZFILL\n",
    "#agg_spatial.agg_pixels(NiX,NiY,zAVG.astype('f4'),xAGG,xAGGSTD,xCOUNT,ZFILL)\n",
    "\n",
    "#plt.imshow(xCOUNT)\n",
    "#data.skt.sel(time=slot).values\n",
    "#data\n",
    "#plt.scatter(model_lon[reg][0:-1:2],model_lat[reg][0:-1:2],c=land_inlandw[reg][0:-1:2])\n",
    "#data.lsm\n",
    "#type(skt.values)"
   ]
  }
 ],
 "metadata": {
  "kernelspec": {
   "display_name": "Python 3 (based on the module python3/2022.01)",
   "language": "python",
   "name": "python3_2022_01"
  },
  "language_info": {
   "codemirror_mode": {
    "name": "ipython",
    "version": 3
   },
   "file_extension": ".py",
   "mimetype": "text/x-python",
   "name": "python",
   "nbconvert_exporter": "python",
   "pygments_lexer": "ipython3",
   "version": "3.9.9"
  }
 },
 "nbformat": 4,
 "nbformat_minor": 5
}
